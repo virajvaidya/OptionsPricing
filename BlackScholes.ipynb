{
  "nbformat": 4,
  "nbformat_minor": 0,
  "metadata": {
    "colab": {
      "name": "BlackScholes.ipynb",
      "provenance": [],
      "collapsed_sections": [],
      "authorship_tag": "ABX9TyNp9yUfxMwXqtLOyKV4TdeB",
      "include_colab_link": true
    },
    "kernelspec": {
      "name": "python3",
      "display_name": "Python 3"
    },
    "language_info": {
      "name": "python"
    }
  },
  "cells": [
    {
      "cell_type": "markdown",
      "metadata": {
        "id": "view-in-github",
        "colab_type": "text"
      },
      "source": [
        "<a href=\"https://colab.research.google.com/github/virajvaidya/OptionsPricing/blob/main/BlackScholes.ipynb\" target=\"_parent\"><img src=\"https://colab.research.google.com/assets/colab-badge.svg\" alt=\"Open In Colab\"/></a>"
      ]
    },
    {
      "cell_type": "code",
      "metadata": {
        "id": "uAv5ypyOLuWm"
      },
      "source": [
        "#Basic dependencies\n",
        "import numpy             as np\n",
        "import pandas            as pd"
      ],
      "execution_count": 36,
      "outputs": []
    },
    {
      "cell_type": "code",
      "metadata": {
        "id": "kQOM-BQGqiFt"
      },
      "source": [
        "#For options pricing\n",
        "!pip install py_vollib"
      ],
      "execution_count": null,
      "outputs": []
    },
    {
      "cell_type": "code",
      "metadata": {
        "id": "CM1WqHGPa6P1"
      },
      "source": [
        "!pip install py_vollib_vectorized\n",
        "import py_vollib_vectorized"
      ],
      "execution_count": null,
      "outputs": []
    },
    {
      "cell_type": "code",
      "metadata": {
        "id": "Ri6JICYrsCsp"
      },
      "source": [
        "from __future__                                  import division\n",
        "from py_vollib.black                             import undiscounted_black\n",
        "from py_vollib.black_scholes                     import black_scholes\n",
        "from py_vollib.black_scholes                     import greeks\n",
        "from py_vollib.black_scholes                     import black_scholes\n",
        "from py_vollib.black_scholes.implied_volatility  import implied_volatility\n",
        "from py_vollib_vectorized                        import api\n",
        "from py_vollib_vectorized.api                    import get_all_greeks\n",
        "from py_vollib_vectorized.api                    import price_dataframe"
      ],
      "execution_count": 40,
      "outputs": []
    },
    {
      "cell_type": "markdown",
      "metadata": {
        "id": "vyvlmzzLwKKB"
      },
      "source": [
        "#Computing the Black-Scholes Option Price and the Implied Volatility\n",
        "\n",
        "Stating the parameters:\n",
        "\n",
        "**S** = Price of underlying asset\n",
        "\n",
        "**K**        = Strike Price\n",
        "\n",
        "**sigma**    = volatility (annualised)\n",
        "\n",
        "**t**        = time to maturity in years (eg 200/365 implies 200 days to maturity)\n",
        "\n",
        "**r** = risk free interest rate\n",
        "\n",
        "**flag** = 'c' for call, 'p' for put"
      ]
    },
    {
      "cell_type": "code",
      "metadata": {
        "id": "uLCupONOuxap"
      },
      "source": [
        "S         = 100                     \n",
        "K         = 100\n",
        "sigma     = 0.1 \n",
        "t         = 250/365\n",
        "r         = 0.1\n",
        "flag      = 'c'"
      ],
      "execution_count": 48,
      "outputs": []
    },
    {
      "cell_type": "code",
      "metadata": {
        "id": "lR6mRXqgyYoX"
      },
      "source": [
        "price = black_scholes(flag, S, K, t, r, sigma)        #Black Scholes Option Price  \n",
        "iv = implied_volatility(price, S, K, t, r, flag)      #Black Scholes Implied Volatility"
      ],
      "execution_count": 49,
      "outputs": []
    },
    {
      "cell_type": "code",
      "metadata": {
        "colab": {
          "base_uri": "https://localhost:8080/"
        },
        "id": "L4s2AW9Yya_4",
        "outputId": "49d61acc-347e-42fe-96ad-ec38a3e5d2a5"
      },
      "source": [
        "print (price,iv)"
      ],
      "execution_count": 50,
      "outputs": [
        {
          "output_type": "stream",
          "name": "stdout",
          "text": [
            "   Price\n",
            "0  7.535     IV\n",
            "0  0.1\n"
          ]
        }
      ]
    },
    {
      "cell_type": "markdown",
      "metadata": {
        "id": "LQ4YhanE0VIL"
      },
      "source": [
        "**Interpretation of the above result:**\n",
        "\n",
        "For a call option where\n",
        "\n",
        "Underlying asset price = $100\n",
        "\n",
        "Strike price = $100\n",
        "\n",
        "annualised volatility = 10%\n",
        "\n",
        "Days to maturity = 250 days\n",
        "\n",
        "Risk-free Interest Rate = 10%\n",
        "\n",
        "the Black-Scholes Option Price is $ 7.534\n",
        "\n",
        "and\n",
        "\n",
        "the Black-Scholes Implied Volatility is 10%"
      ]
    },
    {
      "cell_type": "markdown",
      "metadata": {
        "id": "KQD-96A0ariu"
      },
      "source": [
        "#Greeks"
      ]
    },
    {
      "cell_type": "code",
      "metadata": {
        "colab": {
          "base_uri": "https://localhost:8080/"
        },
        "id": "UEoIKdQJc_i9",
        "outputId": "292d797f-90f9-4398-bc5d-ac1ac0ac2834"
      },
      "source": [
        "flag = ['c', 'p']\n",
        "S = 100\n",
        "K = 100\n",
        "t = 250/365\n",
        "r = .1\n",
        "sigma = .1\n",
        "get_all_greeks(flag, S, K, t, r, sigma, model='black_scholes', return_as='dict')"
      ],
      "execution_count": 51,
      "outputs": [
        {
          "output_type": "execute_result",
          "data": {
            "text/plain": [
              "{'delta': [0.8075725925622557, -0.19242740743803943],\n",
              " 'gamma': [0.033045366905071205, 0.03304536702386507],\n",
              " 'rho': [0.5013229186263488, -0.13827102468310354],\n",
              " 'theta': [-0.024592467737197587, 0.000994594877669952],\n",
              " 'vega': [0.22573628568155657, 0.22573628568155601]}"
            ]
          },
          "metadata": {},
          "execution_count": 51
        }
      ]
    },
    {
      "cell_type": "markdown",
      "metadata": {
        "id": "aRV8Ao6ydqPp"
      },
      "source": [
        "**Interpretation of the above:**\n",
        "\n",
        "The two numbers in the brackets provide the call and put Greeks respectively.\n",
        "\n",
        "For example,\n",
        "\n",
        "'delta': [0.8075725925622557, -0.19242740743803943]\n",
        "\n",
        "Here the the delta for the call is 0.80758 and for the put is -0.192427"
      ]
    },
    {
      "cell_type": "markdown",
      "metadata": {
        "id": "g8HMp4vE6hCh"
      },
      "source": [
        "**However, the above process just for one option is cumbersome. We can calculate all the greeks for a dataframe as following:**"
      ]
    },
    {
      "cell_type": "markdown",
      "metadata": {
        "id": "UkDWrY1YfNod"
      },
      "source": [
        "#Calculating greeks for a dataframe\n",
        "(Randomly generated values for the variables)"
      ]
    },
    {
      "cell_type": "code",
      "metadata": {
        "colab": {
          "base_uri": "https://localhost:8080/",
          "height": 269
        },
        "id": "syAutmtB4x9r",
        "outputId": "796f0125-7eb4-45cf-e5e8-7dbad208804c"
      },
      "source": [
        "df = pd.DataFrame()\n",
        "df['Flag'] = ('c','c', 'c', 'c', 'c', 'c', 'c')\n",
        "df['S'] = (95, 100, 53, 56,67,98,123)\n",
        "df['K'] = (100, 100, 56, 57,70,100,120)\n",
        "df['T'] = (0.2, 0.1, 0.15,0.12, 0.08, 0.09, 0.14)\n",
        "df['R'] = (0.2, 0.3, 0.1, 0.1, 0.1, 0.1, 0.05)\n",
        "df['IV'] = (0.2, 0.4, 0.12, 0.34, 0.21, 0.1, 0.1)\n",
        "price_dataframe(df, flag_col='Flag', underlying_price_col='S', strike_col='K', annualized_tte_col='T', riskfree_rate_col='R', sigma_col='IV', model='black_scholes', inplace=False)"
      ],
      "execution_count": 156,
      "outputs": [
        {
          "output_type": "execute_result",
          "data": {
            "text/html": [
              "<div>\n",
              "<style scoped>\n",
              "    .dataframe tbody tr th:only-of-type {\n",
              "        vertical-align: middle;\n",
              "    }\n",
              "\n",
              "    .dataframe tbody tr th {\n",
              "        vertical-align: top;\n",
              "    }\n",
              "\n",
              "    .dataframe thead th {\n",
              "        text-align: right;\n",
              "    }\n",
              "</style>\n",
              "<table border=\"1\" class=\"dataframe\">\n",
              "  <thead>\n",
              "    <tr style=\"text-align: right;\">\n",
              "      <th></th>\n",
              "      <th>Price</th>\n",
              "      <th>delta</th>\n",
              "      <th>gamma</th>\n",
              "      <th>theta</th>\n",
              "      <th>rho</th>\n",
              "      <th>vega</th>\n",
              "    </tr>\n",
              "  </thead>\n",
              "  <tbody>\n",
              "    <tr>\n",
              "      <th>0</th>\n",
              "      <td>2.895588</td>\n",
              "      <td>0.467506</td>\n",
              "      <td>0.046795</td>\n",
              "      <td>-0.045900</td>\n",
              "      <td>0.083035</td>\n",
              "      <td>0.168926</td>\n",
              "    </tr>\n",
              "    <tr>\n",
              "      <th>1</th>\n",
              "      <td>6.584992</td>\n",
              "      <td>0.618070</td>\n",
              "      <td>0.030148</td>\n",
              "      <td>-0.111946</td>\n",
              "      <td>0.055222</td>\n",
              "      <td>0.120588</td>\n",
              "    </tr>\n",
              "    <tr>\n",
              "      <th>2</th>\n",
              "      <td>0.270435</td>\n",
              "      <td>0.200816</td>\n",
              "      <td>0.113935</td>\n",
              "      <td>-0.009119</td>\n",
              "      <td>0.015562</td>\n",
              "      <td>0.057496</td>\n",
              "    </tr>\n",
              "    <tr>\n",
              "      <th>3</th>\n",
              "      <td>2.480319</td>\n",
              "      <td>0.504188</td>\n",
              "      <td>0.060482</td>\n",
              "      <td>-0.037260</td>\n",
              "      <td>0.030905</td>\n",
              "      <td>0.077386</td>\n",
              "    </tr>\n",
              "    <tr>\n",
              "      <th>4</th>\n",
              "      <td>0.680141</td>\n",
              "      <td>0.283299</td>\n",
              "      <td>0.085066</td>\n",
              "      <td>-0.028133</td>\n",
              "      <td>0.014641</td>\n",
              "      <td>0.064130</td>\n",
              "    </tr>\n",
              "    <tr>\n",
              "      <th>5</th>\n",
              "      <td>0.708719</td>\n",
              "      <td>0.360013</td>\n",
              "      <td>0.127252</td>\n",
              "      <td>-0.026223</td>\n",
              "      <td>0.031117</td>\n",
              "      <td>0.109918</td>\n",
              "    </tr>\n",
              "    <tr>\n",
              "      <th>6</th>\n",
              "      <td>4.337847</td>\n",
              "      <td>0.806680</td>\n",
              "      <td>0.059593</td>\n",
              "      <td>-0.025397</td>\n",
              "      <td>0.132828</td>\n",
              "      <td>0.125875</td>\n",
              "    </tr>\n",
              "  </tbody>\n",
              "</table>\n",
              "</div>"
            ],
            "text/plain": [
              "      Price     delta     gamma     theta       rho      vega\n",
              "0  2.895588  0.467506  0.046795 -0.045900  0.083035  0.168926\n",
              "1  6.584992  0.618070  0.030148 -0.111946  0.055222  0.120588\n",
              "2  0.270435  0.200816  0.113935 -0.009119  0.015562  0.057496\n",
              "3  2.480319  0.504188  0.060482 -0.037260  0.030905  0.077386\n",
              "4  0.680141  0.283299  0.085066 -0.028133  0.014641  0.064130\n",
              "5  0.708719  0.360013  0.127252 -0.026223  0.031117  0.109918\n",
              "6  4.337847  0.806680  0.059593 -0.025397  0.132828  0.125875"
            ]
          },
          "metadata": {},
          "execution_count": 156
        }
      ]
    },
    {
      "cell_type": "code",
      "metadata": {
        "colab": {
          "base_uri": "https://localhost:8080/",
          "height": 269
        },
        "id": "OHyXLKWx6IHn",
        "outputId": "d5b6c666-505a-439c-b441-85bb9449b98a"
      },
      "source": [
        "df = pd.DataFrame()\n",
        "df['Flag'] = ('p','p', 'p', 'p', 'p', 'p', 'p')\n",
        "df['S'] = (95, 100, 53, 56,67,98,123)\n",
        "df['K'] = (100, 100, 56, 57,70,100,120)\n",
        "df['T'] = (0.2, 0.1, 0.15,0.12, 0.08, 0.09, 0.14)\n",
        "df['R'] = (0.2, 0.3, 0.1, 0.1, 0.1, 0.1, 0.05)\n",
        "df['IV'] = (0.2, 0.4, 0.12, 0.34, 0.21, 0.1, 0.1)\n",
        "price_dataframe(df, flag_col='Flag', underlying_price_col='S', strike_col='K', annualized_tte_col='T', riskfree_rate_col='R', sigma_col='IV', model='black_scholes', inplace=False)"
      ],
      "execution_count": 157,
      "outputs": [
        {
          "output_type": "execute_result",
          "data": {
            "text/html": [
              "<div>\n",
              "<style scoped>\n",
              "    .dataframe tbody tr th:only-of-type {\n",
              "        vertical-align: middle;\n",
              "    }\n",
              "\n",
              "    .dataframe tbody tr th {\n",
              "        vertical-align: top;\n",
              "    }\n",
              "\n",
              "    .dataframe thead th {\n",
              "        text-align: right;\n",
              "    }\n",
              "</style>\n",
              "<table border=\"1\" class=\"dataframe\">\n",
              "  <thead>\n",
              "    <tr style=\"text-align: right;\">\n",
              "      <th></th>\n",
              "      <th>Price</th>\n",
              "      <th>delta</th>\n",
              "      <th>gamma</th>\n",
              "      <th>theta</th>\n",
              "      <th>rho</th>\n",
              "      <th>vega</th>\n",
              "    </tr>\n",
              "  </thead>\n",
              "  <tbody>\n",
              "    <tr>\n",
              "      <th>0</th>\n",
              "      <td>3.974532</td>\n",
              "      <td>-0.532494</td>\n",
              "      <td>0.046795</td>\n",
              "      <td>0.006761</td>\n",
              "      <td>-0.109123</td>\n",
              "      <td>0.168926</td>\n",
              "    </tr>\n",
              "    <tr>\n",
              "      <th>1</th>\n",
              "      <td>3.629545</td>\n",
              "      <td>-0.381930</td>\n",
              "      <td>0.030148</td>\n",
              "      <td>-0.032151</td>\n",
              "      <td>-0.041823</td>\n",
              "      <td>0.120588</td>\n",
              "    </tr>\n",
              "    <tr>\n",
              "      <th>2</th>\n",
              "      <td>2.436703</td>\n",
              "      <td>-0.799184</td>\n",
              "      <td>0.113935</td>\n",
              "      <td>0.005997</td>\n",
              "      <td>-0.067187</td>\n",
              "      <td>0.057496</td>\n",
              "    </tr>\n",
              "    <tr>\n",
              "      <th>3</th>\n",
              "      <td>2.800407</td>\n",
              "      <td>-0.495812</td>\n",
              "      <td>0.060482</td>\n",
              "      <td>-0.021828</td>\n",
              "      <td>-0.036679</td>\n",
              "      <td>0.077386</td>\n",
              "    </tr>\n",
              "    <tr>\n",
              "      <th>4</th>\n",
              "      <td>3.122375</td>\n",
              "      <td>-0.716701</td>\n",
              "      <td>0.085066</td>\n",
              "      <td>-0.009106</td>\n",
              "      <td>-0.040913</td>\n",
              "      <td>0.064130</td>\n",
              "    </tr>\n",
              "    <tr>\n",
              "      <th>5</th>\n",
              "      <td>1.812757</td>\n",
              "      <td>-0.639987</td>\n",
              "      <td>0.127252</td>\n",
              "      <td>0.000932</td>\n",
              "      <td>-0.058077</td>\n",
              "      <td>0.109918</td>\n",
              "    </tr>\n",
              "    <tr>\n",
              "      <th>6</th>\n",
              "      <td>0.500780</td>\n",
              "      <td>-0.193320</td>\n",
              "      <td>0.059593</td>\n",
              "      <td>-0.009072</td>\n",
              "      <td>-0.034001</td>\n",
              "      <td>0.125875</td>\n",
              "    </tr>\n",
              "  </tbody>\n",
              "</table>\n",
              "</div>"
            ],
            "text/plain": [
              "      Price     delta     gamma     theta       rho      vega\n",
              "0  3.974532 -0.532494  0.046795  0.006761 -0.109123  0.168926\n",
              "1  3.629545 -0.381930  0.030148 -0.032151 -0.041823  0.120588\n",
              "2  2.436703 -0.799184  0.113935  0.005997 -0.067187  0.057496\n",
              "3  2.800407 -0.495812  0.060482 -0.021828 -0.036679  0.077386\n",
              "4  3.122375 -0.716701  0.085066 -0.009106 -0.040913  0.064130\n",
              "5  1.812757 -0.639987  0.127252  0.000932 -0.058077  0.109918\n",
              "6  0.500780 -0.193320  0.059593 -0.009072 -0.034001  0.125875"
            ]
          },
          "metadata": {},
          "execution_count": 157
        }
      ]
    }
  ]
}